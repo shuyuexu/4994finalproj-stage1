{
 "cells": [
  {
   "cell_type": "code",
   "execution_count": 1,
   "metadata": {},
   "outputs": [],
   "source": [
    "# Import packages\n",
    "import os\n",
    "import re\n",
    "import functools\n",
    "\n",
    "import pandas as pd\n",
    "import numpy as np\n",
    "import matplotlib.pyplot as plt\n",
    "\n",
    "from bs4 import BeautifulSoup\n",
    "from PIL import Image\n",
    "from collections import Counter\n",
    "from nltk.corpus import stopwords\n"
   ]
  },
  {
   "cell_type": "code",
   "execution_count": 2,
   "metadata": {},
   "outputs": [],
   "source": [
    "##example of an original xml file\n",
    "import xml.etree.ElementTree as ET\n",
    "tree = ET.parse('./ecgen-radiology/1.xml')\n",
    "root = tree.getroot()"
   ]
  },
  {
   "cell_type": "code",
   "execution_count": 3,
   "metadata": {},
   "outputs": [
    {
     "name": "stdout",
     "output_type": "stream",
     "text": [
      "meta {'type': 'rr'}\n",
      "uId {'id': 'CXR1'}\n",
      "pmcId {'id': '1'}\n",
      "docSource {}\n",
      "IUXRId {'id': '1'}\n",
      "licenseType {}\n",
      "licenseURL {}\n",
      "ccLicense {}\n",
      "articleURL {}\n",
      "articleDate {}\n",
      "articleType {}\n",
      "publisher {}\n",
      "title {}\n",
      "note {}\n",
      "specialty {}\n",
      "subset {}\n",
      "MedlineCitation {'Owner': 'Indiana University', 'Status': 'supplied by publisher'}\n",
      "MeSH {}\n",
      "parentImage {'id': 'CXR1_1_IM-0001-3001'}\n",
      "parentImage {'id': 'CXR1_1_IM-0001-4001'}\n"
     ]
    }
   ],
   "source": [
    "for child in root:\n",
    "    print(child.tag, child.attrib)"
   ]
  },
  {
   "cell_type": "code",
   "execution_count": 4,
   "metadata": {
    "scrolled": true
   },
   "outputs": [
    {
     "name": "stdout",
     "output_type": "stream",
     "text": [
      "parentImage {'id': 'CXR1_1_IM-0001-3001'}\n",
      "parentImage {'id': 'CXR1_1_IM-0001-4001'}\n"
     ]
    }
   ],
   "source": [
    "## two impages sharing the same captions in 1.xml file\n",
    "for child in root.findall('parentImage'):\n",
    "    print(child.tag, child.attrib)"
   ]
  },
  {
   "cell_type": "code",
   "execution_count": 5,
   "metadata": {},
   "outputs": [
    {
     "name": "stdout",
     "output_type": "stream",
     "text": [
      "Normal chest x-XXXX.\n"
     ]
    }
   ],
   "source": [
    "##caption for 'CXR1_1_IM-0001-3001' and 'CXR1_1_IM-0001-4001'\n",
    "for child in root:\n",
    "    if child.tag == 'MedlineCitation':\n",
    "        for attr in child:\n",
    "             if attr.tag == 'Article':\n",
    "                for i in attr:\n",
    "                    if i.tag == 'Abstract':\n",
    "                        for name in i:\n",
    "                            if name.get('Label') == 'IMPRESSION':\n",
    "                                imp=name.text  \n",
    "\n",
    "print(imp)\n"
   ]
  },
  {
   "cell_type": "code",
   "execution_count": 18,
   "metadata": {
    "scrolled": true
   },
   "outputs": [
    {
     "name": "stderr",
     "output_type": "stream",
     "text": [
      "100%|██████████| 3955/3955 [00:00<00:00, 5360.85it/s]\n"
     ]
    },
    {
     "data": {
      "text/html": [
       "<div>\n",
       "<style scoped>\n",
       "    .dataframe tbody tr th:only-of-type {\n",
       "        vertical-align: middle;\n",
       "    }\n",
       "\n",
       "    .dataframe tbody tr th {\n",
       "        vertical-align: top;\n",
       "    }\n",
       "\n",
       "    .dataframe thead th {\n",
       "        text-align: right;\n",
       "    }\n",
       "</style>\n",
       "<table border=\"1\" class=\"dataframe\">\n",
       "  <thead>\n",
       "    <tr style=\"text-align: right;\">\n",
       "      <th></th>\n",
       "      <th>Image</th>\n",
       "      <th>Caption</th>\n",
       "      <th>Number</th>\n",
       "      <th>Findings</th>\n",
       "    </tr>\n",
       "  </thead>\n",
       "  <tbody>\n",
       "    <tr>\n",
       "      <th>0</th>\n",
       "      <td>CXR162_IM-0401-1001</td>\n",
       "      <td>Normal chest</td>\n",
       "      <td>1</td>\n",
       "      <td>Heart size normal. Lungs are clear. XXXX are n...</td>\n",
       "    </tr>\n",
       "    <tr>\n",
       "      <th>1</th>\n",
       "      <td>CXR162_IM-0401-2001</td>\n",
       "      <td>Normal chest</td>\n",
       "      <td>1</td>\n",
       "      <td>Heart size normal. Lungs are clear. XXXX are n...</td>\n",
       "    </tr>\n",
       "    <tr>\n",
       "      <th>2</th>\n",
       "      <td>CXR1390_IM-0249-1001</td>\n",
       "      <td>No evidence of active disease.</td>\n",
       "      <td>2</td>\n",
       "      <td>The heart size and pulmonary vascularity appea...</td>\n",
       "    </tr>\n",
       "    <tr>\n",
       "      <th>3</th>\n",
       "      <td>CXR1390_IM-0249-2001</td>\n",
       "      <td>No evidence of active disease.</td>\n",
       "      <td>2</td>\n",
       "      <td>The heart size and pulmonary vascularity appea...</td>\n",
       "    </tr>\n",
       "    <tr>\n",
       "      <th>4</th>\n",
       "      <td>CXR604_IM-2193-1001</td>\n",
       "      <td>1. No evidence of active disease.</td>\n",
       "      <td>3</td>\n",
       "      <td>The heart size and pulmonary vascularity appea...</td>\n",
       "    </tr>\n",
       "  </tbody>\n",
       "</table>\n",
       "</div>"
      ],
      "text/plain": [
       "                  Image                            Caption  Number  \\\n",
       "0   CXR162_IM-0401-1001                       Normal chest       1   \n",
       "1   CXR162_IM-0401-2001                       Normal chest       1   \n",
       "2  CXR1390_IM-0249-1001     No evidence of active disease.       2   \n",
       "3  CXR1390_IM-0249-2001     No evidence of active disease.       2   \n",
       "4   CXR604_IM-2193-1001  1. No evidence of active disease.       3   \n",
       "\n",
       "                                            Findings  \n",
       "0  Heart size normal. Lungs are clear. XXXX are n...  \n",
       "1  Heart size normal. Lungs are clear. XXXX are n...  \n",
       "2  The heart size and pulmonary vascularity appea...  \n",
       "3  The heart size and pulmonary vascularity appea...  \n",
       "4  The heart size and pulmonary vascularity appea...  "
      ]
     },
     "execution_count": 18,
     "metadata": {},
     "output_type": "execute_result"
    }
   ],
   "source": [
    "# Load data :extract caption From the XML files\n",
    "from tqdm import tqdm\n",
    "import xml.etree.ElementTree as ET\n",
    "img = []\n",
    "img_impression = []\n",
    "number = []\n",
    "img_finding = []\n",
    "directory = \"./ecgen-radiology/\"\n",
    "num = 1\n",
    "# directory--> directory containing report files\n",
    "for filename in tqdm(os.listdir(\"./ecgen-radiology/\")):\n",
    "    if filename.endswith(\".xml\"):\n",
    "        f = directory + '/' + filename\n",
    "        tree = ET.parse(f)\n",
    "        root = tree.getroot()\n",
    "        for child in root:\n",
    "            if child.tag == 'MedlineCitation':\n",
    "                for attr in child:\n",
    "                    if attr.tag == 'Article':\n",
    "                        for i in attr:\n",
    "                            if i.tag == 'Abstract':\n",
    "                                for name in i:\n",
    "                                    if name.get('Label') == 'IMPRESSION':\n",
    "                                        imp=name.text\n",
    "                                    if name.get('Label') == 'FINDINGS':\n",
    "                                        finding=name.text\n",
    "        for p_image in root.findall('parentImage'):\n",
    "            img.append(p_image.get('id'))\n",
    "            img_impression.append(imp)\n",
    "            img_finding.append(finding)\n",
    "            number.append(num)\n",
    "        num = num+1\n",
    "df = pd.DataFrame({\"Image\": img, \"Caption\": img_impression,\"Number\":number,\"Findings\":img_finding})\n",
    "df.head()"
   ]
  },
  {
   "cell_type": "code",
   "execution_count": 8,
   "metadata": {},
   "outputs": [],
   "source": [
    "df.to_csv(\"origin.csv\",index=False)"
   ]
  },
  {
   "cell_type": "code",
   "execution_count": 9,
   "metadata": {},
   "outputs": [
    {
     "data": {
      "image/png": "[encoded data removed]",
      "text/plain": [
       "<Figure size 1200x800 with 1 Axes>"
      ]
     },
     "metadata": {},
     "output_type": "display_data"
    }
   ],
   "source": [
    "n_img = df.groupby([\"Number\"]).size().value_counts().reset_index()\n",
    "n_img.columns = [\"Number of Images\", \"Count\"]\n",
    "\n",
    "plt.figure(figsize=(12,8))\n",
    "plt.bar(x=n_img[\"Number of Images\"], height=n_img[\"Count\"])\n",
    "plt.xlabel(\"Number of images for each report\")\n",
    "plt.ylabel(\"Count\")\n",
    "plt.title(\"Distribution of number of images for every caption\")\n",
    "plt.show()"
   ]
  },
  {
   "cell_type": "code",
   "execution_count": 10,
   "metadata": {},
   "outputs": [
    {
     "data": {
      "text/plain": [
       "Image       0\n",
       "Caption    52\n",
       "Number      0\n",
       "dtype: int64"
      ]
     },
     "execution_count": 10,
     "metadata": {},
     "output_type": "execute_result"
    }
   ],
   "source": [
    "##check missing values\n",
    "df.isnull().sum()"
   ]
  },
  {
   "cell_type": "code",
   "execution_count": 29,
   "metadata": {},
   "outputs": [
    {
     "name": "stderr",
     "output_type": "stream",
     "text": [
      "100%|██████████| 3955/3955 [00:01<00:00, 1983.98it/s]\n"
     ]
    }
   ],
   "source": [
    "# Load data :extract caption From the XML files\n",
    "from tqdm import tqdm\n",
    "import xml.etree.ElementTree as ET\n",
    "img1 = []\n",
    "img2 = []\n",
    "img_finding = []\n",
    "img_impression = []\n",
    "number = []\n",
    "directory = \"./ecgen-radiology/\"\n",
    "num = 1\n",
    "# directory--> directory containing report files\n",
    "for filename in tqdm(os.listdir(\"./ecgen-radiology/\")):\n",
    "    if filename.endswith(\".xml\"):\n",
    "        f = directory + '/' + filename\n",
    "        tree = ET.parse(f)\n",
    "        root = tree.getroot()\n",
    "        for child in root:\n",
    "            if child.tag == 'MedlineCitation':\n",
    "                for attr in child:\n",
    "                    if attr.tag == 'Article':\n",
    "                        for i in attr:\n",
    "                            if i.tag == 'Abstract':\n",
    "                                for name in i:\n",
    "                                    if name.get('Label') == 'IMPRESSION':\n",
    "                                        imp=name.text\n",
    "                                    if name.get('Label') == 'FINDINGS':\n",
    "                                        finding=name.text\n",
    "        \n",
    "        id = root.findall('parentImage')\n",
    "        \n",
    "        if len(id)%2 == 0:\n",
    "            p_image = 0\n",
    "            while p_image < len(id):\n",
    "                   \n",
    "                img1.append(id[p_image].get('id'))\n",
    "                p_image = p_image+1\n",
    "                   \n",
    "                img2.append(id[p_image].get('id'))\n",
    "                p_image = p_image+1\n",
    "                \n",
    "                img_impression.append(imp)\n",
    "                number.append(num)\n",
    "                img_finding.append(finding)\n",
    "                \n",
    "        elif len(id)%2 == 1:\n",
    "            p_image = 0\n",
    "            while p_image < len(id)-1:\n",
    "                img1.append(id[p_image].get('id'))\n",
    "                p_image = p_image+1\n",
    "                img2.append(id[p_image].get('id'))\n",
    "                p_image = p_image+1\n",
    "                \n",
    "                img_impression.append(imp)\n",
    "                number.append(num)\n",
    "                img_finding.append(finding)\n",
    "            \n",
    "            img1.append(id[p_image].get('id'))\n",
    "            img2.append(id[p_image].get('id'))\n",
    "            img_impression.append(imp)\n",
    "            img_finding.append(finding)\n",
    "            number.append(num)\n",
    "        \n",
    "        num = num+1\n",
    "df = pd.DataFrame({\"Image1\": img1,\"Image2\": img2, \"Caption\": img_impression,\"Number\":number,\"Findings\":img_finding}).sort_values(['Number'])\n"
   ]
  },
  {
   "cell_type": "code",
   "execution_count": 42,
   "metadata": {
    "scrolled": true
   },
   "outputs": [
    {
     "data": {
      "text/html": [
       "<div>\n",
       "<style scoped>\n",
       "    .dataframe tbody tr th:only-of-type {\n",
       "        vertical-align: middle;\n",
       "    }\n",
       "\n",
       "    .dataframe tbody tr th {\n",
       "        vertical-align: top;\n",
       "    }\n",
       "\n",
       "    .dataframe thead th {\n",
       "        text-align: right;\n",
       "    }\n",
       "</style>\n",
       "<table border=\"1\" class=\"dataframe\">\n",
       "  <thead>\n",
       "    <tr style=\"text-align: right;\">\n",
       "      <th></th>\n",
       "      <th>Image1</th>\n",
       "      <th>Image2</th>\n",
       "      <th>Caption</th>\n",
       "      <th>Number</th>\n",
       "    </tr>\n",
       "  </thead>\n",
       "  <tbody>\n",
       "    <tr>\n",
       "      <th>0</th>\n",
       "      <td>CXR162_IM-0401-1001</td>\n",
       "      <td>CXR162_IM-0401-2001</td>\n",
       "      <td>normal chest</td>\n",
       "      <td>1</td>\n",
       "    </tr>\n",
       "    <tr>\n",
       "      <th>1</th>\n",
       "      <td>CXR1390_IM-0249-1001</td>\n",
       "      <td>CXR1390_IM-0249-2001</td>\n",
       "      <td>no evidence of active disease.</td>\n",
       "      <td>2</td>\n",
       "    </tr>\n",
       "    <tr>\n",
       "      <th>2</th>\n",
       "      <td>CXR604_IM-2193-1001</td>\n",
       "      <td>CXR604_IM-2193-2001</td>\n",
       "      <td>1. no evidence of active disease.</td>\n",
       "      <td>3</td>\n",
       "    </tr>\n",
       "    <tr>\n",
       "      <th>3</th>\n",
       "      <td>CXR2699_IM-1167-1001</td>\n",
       "      <td>CXR2699_IM-1167-2001</td>\n",
       "      <td>no acute cardiopulmonary disease.</td>\n",
       "      <td>4</td>\n",
       "    </tr>\n",
       "    <tr>\n",
       "      <th>4</th>\n",
       "      <td>CXR2841_IM-1253-2001</td>\n",
       "      <td>CXR2841_IM-1253-2001</td>\n",
       "      <td>no acute cardiopulmonary disease.</td>\n",
       "      <td>5</td>\n",
       "    </tr>\n",
       "  </tbody>\n",
       "</table>\n",
       "</div>"
      ],
      "text/plain": [
       "                 Image1                Image2  \\\n",
       "0   CXR162_IM-0401-1001   CXR162_IM-0401-2001   \n",
       "1  CXR1390_IM-0249-1001  CXR1390_IM-0249-2001   \n",
       "2   CXR604_IM-2193-1001   CXR604_IM-2193-2001   \n",
       "3  CXR2699_IM-1167-1001  CXR2699_IM-1167-2001   \n",
       "4  CXR2841_IM-1253-2001  CXR2841_IM-1253-2001   \n",
       "\n",
       "                             Caption  Number  \n",
       "0                       normal chest       1  \n",
       "1     no evidence of active disease.       2  \n",
       "2  1. no evidence of active disease.       3  \n",
       "3  no acute cardiopulmonary disease.       4  \n",
       "4  no acute cardiopulmonary disease.       5  "
      ]
     },
     "execution_count": 42,
     "metadata": {},
     "output_type": "execute_result"
    }
   ],
   "source": [
    "df.head(5)"
   ]
  },
  {
   "cell_type": "code",
   "execution_count": 32,
   "metadata": {
    "scrolled": true
   },
   "outputs": [
    {
     "data": {
      "text/plain": [
       "Image1        0\n",
       "Image2        0\n",
       "Caption      32\n",
       "Number        0\n",
       "Findings    546\n",
       "dtype: int64"
      ]
     },
     "execution_count": 32,
     "metadata": {},
     "output_type": "execute_result"
    }
   ],
   "source": [
    "df.isnull().sum()"
   ]
  },
  {
   "cell_type": "code",
   "execution_count": 33,
   "metadata": {},
   "outputs": [],
   "source": [
    "### findings have many missing values, so delete this column\n",
    "df = df.drop(columns=['Findings'])"
   ]
  },
  {
   "cell_type": "code",
   "execution_count": 34,
   "metadata": {},
   "outputs": [],
   "source": [
    "##delete missing values\n",
    "df = df.dropna()"
   ]
  },
  {
   "cell_type": "code",
   "execution_count": 36,
   "metadata": {},
   "outputs": [],
   "source": [
    "##change into lower case\n",
    "df[\"Caption\"] = df[\"Caption\"].str.lower() \n"
   ]
  },
  {
   "cell_type": "code",
   "execution_count": 43,
   "metadata": {
    "scrolled": true
   },
   "outputs": [
    {
     "data": {
      "text/html": [
       "<div>\n",
       "<style scoped>\n",
       "    .dataframe tbody tr th:only-of-type {\n",
       "        vertical-align: middle;\n",
       "    }\n",
       "\n",
       "    .dataframe tbody tr th {\n",
       "        vertical-align: top;\n",
       "    }\n",
       "\n",
       "    .dataframe thead th {\n",
       "        text-align: right;\n",
       "    }\n",
       "</style>\n",
       "<table border=\"1\" class=\"dataframe\">\n",
       "  <thead>\n",
       "    <tr style=\"text-align: right;\">\n",
       "      <th></th>\n",
       "      <th>Image1</th>\n",
       "      <th>Image2</th>\n",
       "      <th>Caption</th>\n",
       "      <th>Number</th>\n",
       "    </tr>\n",
       "  </thead>\n",
       "  <tbody>\n",
       "    <tr>\n",
       "      <th>0</th>\n",
       "      <td>CXR162_IM-0401-1001</td>\n",
       "      <td>CXR162_IM-0401-2001</td>\n",
       "      <td>normal chest</td>\n",
       "      <td>1</td>\n",
       "    </tr>\n",
       "    <tr>\n",
       "      <th>1</th>\n",
       "      <td>CXR1390_IM-0249-1001</td>\n",
       "      <td>CXR1390_IM-0249-2001</td>\n",
       "      <td>no evidence of active disease.</td>\n",
       "      <td>2</td>\n",
       "    </tr>\n",
       "    <tr>\n",
       "      <th>2</th>\n",
       "      <td>CXR604_IM-2193-1001</td>\n",
       "      <td>CXR604_IM-2193-2001</td>\n",
       "      <td>1. no evidence of active disease.</td>\n",
       "      <td>3</td>\n",
       "    </tr>\n",
       "    <tr>\n",
       "      <th>3</th>\n",
       "      <td>CXR2699_IM-1167-1001</td>\n",
       "      <td>CXR2699_IM-1167-2001</td>\n",
       "      <td>no acute cardiopulmonary disease.</td>\n",
       "      <td>4</td>\n",
       "    </tr>\n",
       "    <tr>\n",
       "      <th>4</th>\n",
       "      <td>CXR2841_IM-1253-2001</td>\n",
       "      <td>CXR2841_IM-1253-2001</td>\n",
       "      <td>no acute cardiopulmonary disease.</td>\n",
       "      <td>5</td>\n",
       "    </tr>\n",
       "  </tbody>\n",
       "</table>\n",
       "</div>"
      ],
      "text/plain": [
       "                 Image1                Image2  \\\n",
       "0   CXR162_IM-0401-1001   CXR162_IM-0401-2001   \n",
       "1  CXR1390_IM-0249-1001  CXR1390_IM-0249-2001   \n",
       "2   CXR604_IM-2193-1001   CXR604_IM-2193-2001   \n",
       "3  CXR2699_IM-1167-1001  CXR2699_IM-1167-2001   \n",
       "4  CXR2841_IM-1253-2001  CXR2841_IM-1253-2001   \n",
       "\n",
       "                             Caption  Number  \n",
       "0                       normal chest       1  \n",
       "1     no evidence of active disease.       2  \n",
       "2  1. no evidence of active disease.       3  \n",
       "3  no acute cardiopulmonary disease.       4  \n",
       "4  no acute cardiopulmonary disease.       5  "
      ]
     },
     "execution_count": 43,
     "metadata": {},
     "output_type": "execute_result"
    }
   ],
   "source": [
    "df.head(5)"
   ]
  },
  {
   "cell_type": "code",
   "execution_count": 38,
   "metadata": {},
   "outputs": [],
   "source": [
    "df.to_csv(\"input.csv\",index=False)"
   ]
  },
  {
   "cell_type": "code",
   "execution_count": 39,
   "metadata": {
    "scrolled": true
   },
   "outputs": [
    {
     "name": "stdout",
     "output_type": "stream",
     "text": [
      "Image1            CXR2680_IM-1154-1001\n",
      "Image2            CXR2680_IM-1154-2001\n",
      "Caption    no acute pulmonary disease.\n",
      "Number                            3953\n",
      "Name: 4044, dtype: object\n",
      "Image1            CXR2680_IM-1154-3001\n",
      "Image2            CXR2680_IM-1154-3001\n",
      "Caption    no acute pulmonary disease.\n",
      "Number                            3953\n",
      "Name: 4045, dtype: object\n"
     ]
    }
   ],
   "source": [
    "## an example that three graphs are sharing the same caption\n",
    "## the first two graphs become a pair of input\n",
    "## the third graph and the repeated one become a pair of input\n",
    "print(df.iloc[4012])\n",
    "print(df.iloc[4013])"
   ]
  },
  {
   "cell_type": "code",
   "execution_count": null,
   "metadata": {},
   "outputs": [],
   "source": []
  },
  {
   "cell_type": "code",
   "execution_count": null,
   "metadata": {},
   "outputs": [],
   "source": []
  },
  {
   "cell_type": "code",
   "execution_count": null,
   "metadata": {},
   "outputs": [],
   "source": [
    "from tensorflow.keras.applications import densenet\n",
    "chex = densenet.DenseNet121(include_top=False, weights = None,input_shape=(224,224,3), pooling=\"avg\")\n",
    "X = chex.output\n",
    "X = Dense(14, activation=\"sigmoid\", name=\"predictions\")(X)\n",
    "model = Model(inputs=chex.input, outputs=X)\n",
    "model.load_weights('load_the_downloaded_weights.h5')\n",
    "chexnet = Model(inputs = model.input, outputs = model.layers[-2].output)"
   ]
  },
  {
   "cell_type": "code",
   "execution_count": null,
   "metadata": {},
   "outputs": [],
   "source": []
  },
  {
   "cell_type": "code",
   "execution_count": null,
   "metadata": {},
   "outputs": [],
   "source": []
  }
 ],
 "metadata": {
  "kernelspec": {
   "display_name": "Python 3",
   "language": "python",
   "name": "python3"
  },
  "language_info": {
   "codemirror_mode": {
    "name": "ipython",
    "version": 3
   },
   "file_extension": ".py",
   "mimetype": "text/x-python",
   "name": "python",
   "nbconvert_exporter": "python",
   "pygments_lexer": "ipython3",
   "version": "3.8.3"
  }
 },
 "nbformat": 4,
 "nbformat_minor": 1
}
